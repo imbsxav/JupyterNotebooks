{
 "cells": [
  {
   "cell_type": "code",
   "execution_count": 1,
   "id": "197e6cc0",
   "metadata": {},
   "outputs": [],
   "source": [
    "import pandas as pd"
   ]
  },
  {
   "cell_type": "code",
   "execution_count": 2,
   "id": "c3eab3f1",
   "metadata": {},
   "outputs": [],
   "source": [
    "data_list = [10000, 10092, 10200, 10011, 10302, 11223]"
   ]
  },
  {
   "cell_type": "markdown",
   "id": "9e590e0d",
   "metadata": {},
   "source": [
    "# Let's build a function for MDD"
   ]
  },
  {
   "cell_type": "code",
   "execution_count": 3,
   "id": "1794e381",
   "metadata": {},
   "outputs": [],
   "source": [
    "def max_drawdown(data):\n",
    "    data_series = pd.Series(data_list)\n",
    "    data_size = len(data_series)\n",
    "    running_max = data_series.rolling(window=data_size, min_periods=1).max()\n",
    "    dd = data / running_max -1\n",
    "    MDD = dd.rolling(window=data_size, min_periods=1).min()\n",
    "    return MDD.min()*100  # Return in percentage"
   ]
  },
  {
   "cell_type": "code",
   "execution_count": 4,
   "id": "3e663828",
   "metadata": {},
   "outputs": [
    {
     "data": {
      "text/plain": [
       "-1.8529411764705905"
      ]
     },
     "execution_count": 4,
     "metadata": {},
     "output_type": "execute_result"
    }
   ],
   "source": [
    "max_drawdown(data_list)"
   ]
  },
  {
   "cell_type": "code",
   "execution_count": null,
   "id": "6c90d2b1",
   "metadata": {},
   "outputs": [],
   "source": []
  },
  {
   "cell_type": "markdown",
   "id": "95431247",
   "metadata": {},
   "source": [
    "# Let's break down the steps"
   ]
  },
  {
   "cell_type": "code",
   "execution_count": 5,
   "id": "134bce26",
   "metadata": {},
   "outputs": [],
   "source": [
    "data = pd.Series(data_list)\n",
    "data_size = data.count()"
   ]
  },
  {
   "cell_type": "code",
   "execution_count": 6,
   "id": "477072b1",
   "metadata": {},
   "outputs": [
    {
     "data": {
      "text/plain": [
       "0    10000.0\n",
       "1    10092.0\n",
       "2    10200.0\n",
       "3    10200.0\n",
       "4    10302.0\n",
       "5    11223.0\n",
       "dtype: float64"
      ]
     },
     "execution_count": 6,
     "metadata": {},
     "output_type": "execute_result"
    }
   ],
   "source": [
    "# Running max for each data point\n",
    "running_max = data.rolling(window=data_size, min_periods=1).max()\n",
    "running_max"
   ]
  },
  {
   "cell_type": "code",
   "execution_count": 7,
   "id": "0f80aef9",
   "metadata": {},
   "outputs": [
    {
     "data": {
      "text/plain": [
       "0    0.000000\n",
       "1    0.000000\n",
       "2    0.000000\n",
       "3   -0.018529\n",
       "4    0.000000\n",
       "5    0.000000\n",
       "dtype: float64"
      ]
     },
     "execution_count": 7,
     "metadata": {},
     "output_type": "execute_result"
    }
   ],
   "source": [
    "# drawdown: \n",
    "dd = data / running_max -1\n",
    "dd"
   ]
  },
  {
   "cell_type": "code",
   "execution_count": 8,
   "id": "72c451c5",
   "metadata": {},
   "outputs": [
    {
     "data": {
      "text/plain": [
       "-1.8529411764705905"
      ]
     },
     "execution_count": 8,
     "metadata": {},
     "output_type": "execute_result"
    }
   ],
   "source": [
    "# Maximum Drawdown\n",
    "MDD = dd.rolling(window=data_size, min_periods=1).min()\n",
    "MDD.min()*100"
   ]
  },
  {
   "cell_type": "code",
   "execution_count": null,
   "id": "ea8e1064",
   "metadata": {},
   "outputs": [],
   "source": []
  }
 ],
 "metadata": {
  "kernelspec": {
   "display_name": "Python 3",
   "language": "python",
   "name": "python3"
  },
  "language_info": {
   "codemirror_mode": {
    "name": "ipython",
    "version": 3
   },
   "file_extension": ".py",
   "mimetype": "text/x-python",
   "name": "python",
   "nbconvert_exporter": "python",
   "pygments_lexer": "ipython3",
   "version": "3.8.8"
  }
 },
 "nbformat": 4,
 "nbformat_minor": 5
}
